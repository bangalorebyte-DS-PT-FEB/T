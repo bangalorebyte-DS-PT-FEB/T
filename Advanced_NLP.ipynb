{
 "cells": [
  {
   "cell_type": "markdown",
   "metadata": {},
   "source": [
    "## Information extraction\n",
    "\n",
    "Much of the data out there is unstructured, that is, it is on blogs, other webpages etc. One example is a webpage for a news article. For such data, we are interested in different kinds of data that is hidden in the free text. We may ask:\n",
    "\n",
    "- Who wrote the article?\n",
    "- Where is it coming from?\n",
    "- What does it say?\n",
    "- Which entities (names, places, people, dates) are involved?\n",
    "\n",
    "What we also have in this article are relationships (what happened to who, where?)\n",
    "\n",
    "Let's give all this formal definitions:\n",
    "\n",
    "**Named entity**: Noun phrases that are of specific type and refer to specific individuals, places, organizations...\n",
    "\n",
    "**Named entity recognition**: Process of identifying named entities in text. \n",
    "    - Identify the mention\n",
    "    - Identify the tag\n",
    "**Relationship extraction**: Identify relationships between named entities     \n",
    "For example the word, Chicago. It could mean an album, a team or even a font!\n",
    "\n"
   ]
  },
  {
   "cell_type": "markdown",
   "metadata": {},
   "source": [
    "## Named Entity Extraction\n",
    "\n",
    "Named entities are noun phrases that refer to specific types of individuals, such as organizations, people, dates, etc. Therefore, the purpose of a named entity recognition (NER) system is to identify all textual mentions of the named entities.\n",
    "\n",
    "### spaCy\n",
    "\n",
    "In the following exercise, we'll build our own named entity recognition system with the Python module `spaCy`, a Python module commonly used for Natural Language Processing in industry. "
   ]
  },
  {
   "cell_type": "code",
   "execution_count": 1,
   "metadata": {
    "collapsed": true
   },
   "outputs": [],
   "source": [
    "import spacy\n",
    "import pandas as pd"
   ]
  },
  {
   "cell_type": "code",
   "execution_count": 2,
   "metadata": {
    "collapsed": true
   },
   "outputs": [],
   "source": [
    "nlp = spacy.load('en')"
   ]
  },
  {
   "cell_type": "code",
   "execution_count": 3,
   "metadata": {
    "collapsed": true
   },
   "outputs": [],
   "source": [
    "# Lets try it\n",
    "\n",
    "review = \"Columbia University was founded in 1754 as King's College by royal charter of King George II of England. It is the oldest institution of higher learning in the state of New York and the fifth oldest in the United States. Controversy preceded the founding of the College, with various groups competing to determine its location and religious affiliation. Advocates of New York City met with success on the first point, while the Anglicans prevailed on the latter. However, all constituencies agreed to commit themselves to principles of religious liberty in establishing the policies of the College. In July 1754, Samuel Johnson held the first classes in a new schoolhouse adjoining Trinity Church, located on what is now lower Broadway in Manhattan. There were eight students in the class. At King's College, the future leaders of colonial society could receive an education designed to 'enlarge the Mind, improve the Understanding, polish the whole Man, and qualify them to support the brightest Characters in all the elevated stations in life.'' One early manifestation of the institution's lofty goals was the establishment in 1767 of the first American medical school to grant the M.D. degree.\""
   ]
  },
  {
   "cell_type": "code",
   "execution_count": 4,
   "metadata": {},
   "outputs": [
    {
     "data": {
      "text/plain": [
       "Columbia University was founded in 1754 as King's College by royal charter of King George II of England. It is the oldest institution of higher learning in the state of New York and the fifth oldest in the United States. Controversy preceded the founding of the College, with various groups competing to determine its location and religious affiliation. Advocates of New York City met with success on the first point, while the Anglicans prevailed on the latter. However, all constituencies agreed to commit themselves to principles of religious liberty in establishing the policies of the College. In July 1754, Samuel Johnson held the first classes in a new schoolhouse adjoining Trinity Church, located on what is now lower Broadway in Manhattan. There were eight students in the class. At King's College, the future leaders of colonial society could receive an education designed to 'enlarge the Mind, improve the Understanding, polish the whole Man, and qualify them to support the brightest Characters in all the elevated stations in life.'' One early manifestation of the institution's lofty goals was the establishment in 1767 of the first American medical school to grant the M.D. degree."
      ]
     },
     "execution_count": 4,
     "metadata": {},
     "output_type": "execute_result"
    }
   ],
   "source": [
    "doc = nlp(review)\n",
    "doc"
   ]
  },
  {
   "cell_type": "code",
   "execution_count": 5,
   "metadata": {
    "collapsed": true
   },
   "outputs": [],
   "source": [
    "sentences = [sentence.orth_ for sentence in doc.sents] "
   ]
  },
  {
   "cell_type": "code",
   "execution_count": 6,
   "metadata": {},
   "outputs": [
    {
     "data": {
      "text/plain": [
       "[\"Columbia University was founded in 1754 as King's College by royal charter of King George II of England.\",\n",
       " 'It is the oldest institution of higher learning in the state of New York and the fifth oldest in the United States.',\n",
       " 'Controversy preceded the founding of the College, with various groups competing to determine its location and religious affiliation.',\n",
       " 'Advocates of New York City met with success on the first point, while the Anglicans prevailed on the latter.',\n",
       " 'However, all constituencies agreed to commit themselves to principles of religious liberty in establishing the policies of the College.',\n",
       " 'In July 1754, Samuel Johnson held the first classes in a new schoolhouse adjoining Trinity Church, located on what is now lower Broadway in Manhattan.',\n",
       " 'There were eight students in the class.',\n",
       " \"At King's College, the future leaders of colonial society could receive an education designed to 'enlarge the Mind, improve the Understanding, polish the whole Man, and qualify them to support the brightest Characters in all the elevated stations in life.''\",\n",
       " \"One early manifestation of the institution's lofty goals was the establishment in 1767 of the first American medical school to grant the M.D. degree.\"]"
      ]
     },
     "execution_count": 6,
     "metadata": {},
     "output_type": "execute_result"
    }
   ],
   "source": [
    "sentences"
   ]
  },
  {
   "cell_type": "code",
   "execution_count": 7,
   "metadata": {},
   "outputs": [
    {
     "name": "stdout",
     "output_type": "stream",
     "text": [
      "There were 9 sentences found.\n"
     ]
    }
   ],
   "source": [
    "sentences = [sentence.orth_ for sentence in doc.sents] # list of sentences\n",
    "print(\"There were {} sentences found.\".format(len(sentences)))"
   ]
  },
  {
   "cell_type": "code",
   "execution_count": 8,
   "metadata": {},
   "outputs": [
    {
     "name": "stdout",
     "output_type": "stream",
     "text": [
      "There were 52 noun phrases found.\n"
     ]
    }
   ],
   "source": [
    "nounphrases = [[np.orth_, np.root.head.orth_] for np in doc.noun_chunks]\n",
    "print(\"There were {} noun phrases found.\".format(len(nounphrases)))"
   ]
  },
  {
   "cell_type": "code",
   "execution_count": 9,
   "metadata": {},
   "outputs": [
    {
     "name": "stdout",
     "output_type": "stream",
     "text": [
      "There were 26 entities found\n"
     ]
    }
   ],
   "source": [
    "entities = list(doc.ents) # converts entities into a list\n",
    "print(\"There were {} entities found\".format(len(entities)))"
   ]
  },
  {
   "cell_type": "code",
   "execution_count": 16,
   "metadata": {},
   "outputs": [
    {
     "data": {
      "text/plain": [
       "[['Columbia',\n",
       "  'University',\n",
       "  'was',\n",
       "  'founded',\n",
       "  'in',\n",
       "  '1754',\n",
       "  'as',\n",
       "  'King',\n",
       "  \"'s\",\n",
       "  'College',\n",
       "  'by',\n",
       "  'royal',\n",
       "  'charter',\n",
       "  'of',\n",
       "  'King',\n",
       "  'George',\n",
       "  'II',\n",
       "  'of',\n",
       "  'England',\n",
       "  '.'],\n",
       " ['It',\n",
       "  'is',\n",
       "  'the',\n",
       "  'oldest',\n",
       "  'institution',\n",
       "  'of',\n",
       "  'higher',\n",
       "  'learning',\n",
       "  'in',\n",
       "  'the',\n",
       "  'state',\n",
       "  'of',\n",
       "  'New',\n",
       "  'York',\n",
       "  'and',\n",
       "  'the',\n",
       "  'fifth',\n",
       "  'oldest',\n",
       "  'in',\n",
       "  'the',\n",
       "  'United',\n",
       "  'States',\n",
       "  '.'],\n",
       " ['Controversy',\n",
       "  'preceded',\n",
       "  'the',\n",
       "  'founding',\n",
       "  'of',\n",
       "  'the',\n",
       "  'College',\n",
       "  ',',\n",
       "  'with',\n",
       "  'various',\n",
       "  'groups',\n",
       "  'competing',\n",
       "  'to',\n",
       "  'determine',\n",
       "  'its',\n",
       "  'location',\n",
       "  'and',\n",
       "  'religious',\n",
       "  'affiliation',\n",
       "  '.'],\n",
       " ['Advocates',\n",
       "  'of',\n",
       "  'New',\n",
       "  'York',\n",
       "  'City',\n",
       "  'met',\n",
       "  'with',\n",
       "  'success',\n",
       "  'on',\n",
       "  'the',\n",
       "  'first',\n",
       "  'point',\n",
       "  ',',\n",
       "  'while',\n",
       "  'the',\n",
       "  'Anglicans',\n",
       "  'prevailed',\n",
       "  'on',\n",
       "  'the',\n",
       "  'latter',\n",
       "  '.'],\n",
       " ['However',\n",
       "  ',',\n",
       "  'all',\n",
       "  'constituencies',\n",
       "  'agreed',\n",
       "  'to',\n",
       "  'commit',\n",
       "  'themselves',\n",
       "  'to',\n",
       "  'principles',\n",
       "  'of',\n",
       "  'religious',\n",
       "  'liberty',\n",
       "  'in',\n",
       "  'establishing',\n",
       "  'the',\n",
       "  'policies',\n",
       "  'of',\n",
       "  'the',\n",
       "  'College',\n",
       "  '.'],\n",
       " ['In',\n",
       "  'July',\n",
       "  '1754',\n",
       "  ',',\n",
       "  'Samuel',\n",
       "  'Johnson',\n",
       "  'held',\n",
       "  'the',\n",
       "  'first',\n",
       "  'classes',\n",
       "  'in',\n",
       "  'a',\n",
       "  'new',\n",
       "  'schoolhouse',\n",
       "  'adjoining',\n",
       "  'Trinity',\n",
       "  'Church',\n",
       "  ',',\n",
       "  'located',\n",
       "  'on',\n",
       "  'what',\n",
       "  'is',\n",
       "  'now',\n",
       "  'lower',\n",
       "  'Broadway',\n",
       "  'in',\n",
       "  'Manhattan',\n",
       "  '.'],\n",
       " ['There', 'were', 'eight', 'students', 'in', 'the', 'class', '.'],\n",
       " ['At',\n",
       "  'King',\n",
       "  \"'s\",\n",
       "  'College',\n",
       "  ',',\n",
       "  'the',\n",
       "  'future',\n",
       "  'leaders',\n",
       "  'of',\n",
       "  'colonial',\n",
       "  'society',\n",
       "  'could',\n",
       "  'receive',\n",
       "  'an',\n",
       "  'education',\n",
       "  'designed',\n",
       "  'to',\n",
       "  \"'enlarge\",\n",
       "  'the',\n",
       "  'Mind',\n",
       "  ',',\n",
       "  'improve',\n",
       "  'the',\n",
       "  'Understanding',\n",
       "  ',',\n",
       "  'polish',\n",
       "  'the',\n",
       "  'whole',\n",
       "  'Man',\n",
       "  ',',\n",
       "  'and',\n",
       "  'qualify',\n",
       "  'them',\n",
       "  'to',\n",
       "  'support',\n",
       "  'the',\n",
       "  'brightest',\n",
       "  'Characters',\n",
       "  'in',\n",
       "  'all',\n",
       "  'the',\n",
       "  'elevated',\n",
       "  'stations',\n",
       "  'in',\n",
       "  'life',\n",
       "  '.',\n",
       "  \"''\"],\n",
       " ['One',\n",
       "  'early',\n",
       "  'manifestation',\n",
       "  'of',\n",
       "  'the',\n",
       "  'institution',\n",
       "  \"'s\",\n",
       "  'lofty',\n",
       "  'goals',\n",
       "  'was',\n",
       "  'the',\n",
       "  'establishment',\n",
       "  'in',\n",
       "  '1767',\n",
       "  'of',\n",
       "  'the',\n",
       "  'first',\n",
       "  'American',\n",
       "  'medical',\n",
       "  'school',\n",
       "  'to',\n",
       "  'grant',\n",
       "  'the',\n",
       "  'M.D',\n",
       "  '.',\n",
       "  'degree',\n",
       "  '.']]"
      ]
     },
     "execution_count": 16,
     "metadata": {},
     "output_type": "execute_result"
    }
   ],
   "source": [
    "import nltk\n",
    " \n",
    "tokes = []\n",
    "for i in sentences:\n",
    "    tokens = nltk.word_tokenize(i)\n",
    "    tokes.append(tokens)\n",
    "    \n",
    "for i in "
   ]
  },
  {
   "cell_type": "markdown",
   "metadata": {},
   "source": [
    "E.g: Paracetamol helps treat hay fever. \n",
    "\n",
    "          treatment\n",
    "Paracetamol -----------> Hay fever"
   ]
  },
  {
   "cell_type": "markdown",
   "metadata": {},
   "source": [
    "## Chunking\n",
    "\n",
    "Chunking is used for entity recognition and segments and labels multitoken sequences. This typically involves segmenting multi-token sequences and labeling them with entity types, such as 'person', 'organization', or 'time'. \n",
    "\n",
    "### Noun Phrase Chunking\n",
    "\n",
    "Noun Phrase Chunking, or NP-Chunking, is where we search for chunks corresponding to individual noun phrases.\n",
    "\n",
    "We can use nltk, as is the case most of the time, to create a chunk parser. We begin with importing nltk and defining a sentence with its parts-of-speeches tagged (which we covered in the previous tutorial). \n",
    "\n"
   ]
  },
  {
   "cell_type": "code",
   "execution_count": null,
   "metadata": {
    "collapsed": true
   },
   "outputs": [],
   "source": [
    "import nltk \n",
    "sentence = [(\"the\", \"DT\"), (\"little\", \"JJ\"), (\"yellow\", \"JJ\"), (\"dog\", \"NN\"), (\"barked\", \"VBD\"), (\"at\", \"IN\"), (\"the\", \"DT\"), (\"cat\", \"NN\")]"
   ]
  },
  {
   "cell_type": "markdown",
   "metadata": {},
   "source": [
    "Next, we define the tag pattern of an NP chunk. A tag pattern is a sequence of part-of-speech tags delimited using angle brackets, e.g. `<DT>?<JJ>*<NN>`. This is how the parse tree for a given sentence is acquired.  \n",
    "\n"
   ]
  },
  {
   "cell_type": "code",
   "execution_count": null,
   "metadata": {
    "collapsed": true
   },
   "outputs": [],
   "source": [
    "pattern = \"NP: {<DT>?<JJ>*<NN>}\" "
   ]
  },
  {
   "cell_type": "markdown",
   "metadata": {},
   "source": [
    "Finally we create the chunk parser with the nltk RegexpParser() class."
   ]
  },
  {
   "cell_type": "code",
   "execution_count": null,
   "metadata": {},
   "outputs": [],
   "source": [
    "NPChunker = nltk.RegexpParser(pattern) "
   ]
  },
  {
   "cell_type": "code",
   "execution_count": null,
   "metadata": {
    "collapsed": true
   },
   "outputs": [],
   "source": [
    "result = NPChunker.parse(sentence) \n",
    "result.draw()"
   ]
  },
  {
   "cell_type": "markdown",
   "metadata": {},
   "source": []
  },
  {
   "cell_type": "markdown",
   "metadata": {},
   "source": [
    "\n"
   ]
  },
  {
   "cell_type": "markdown",
   "metadata": {},
   "source": []
  },
  {
   "cell_type": "markdown",
   "metadata": {},
   "source": [
    "## Latent Dirichlet Allocation (LDA)"
   ]
  },
  {
   "cell_type": "markdown",
   "metadata": {},
   "source": []
  },
  {
   "cell_type": "code",
   "execution_count": null,
   "metadata": {
    "collapsed": true
   },
   "outputs": [],
   "source": [
    "doc1 = \"Sugar is bad to consume. My sister likes to have sugar, but not my father.\"\n",
    "doc2 = \"My father spends a lot of time driving my sister around to dance practice.\"\n",
    "doc3 = \"Doctors suggest that driving may cause increased stress and blood pressure.\"\n",
    "doc4 = \"Sometimes I feel pressure to perform well at school, but my father never seems to drive my sister to do better.\"\n",
    "doc5 = \"Health experts say that Sugar is not good for your lifestyle.\"\n",
    "\n",
    "# compile documents\n",
    "doc_complete = [doc1, doc2, doc3, doc4, doc5]"
   ]
  },
  {
   "cell_type": "code",
   "execution_count": null,
   "metadata": {
    "collapsed": true
   },
   "outputs": [],
   "source": [
    "from nltk.corpus import stopwords \n",
    "from nltk.stem.wordnet import WordNetLemmatizer\n",
    "import string\n",
    "stop = set(stopwords.words('english'))\n",
    "exclude = set(string.punctuation) \n",
    "lemma = WordNetLemmatizer()\n",
    "def clean(doc):\n",
    "    stop_free = \" \".join([i for i in doc.lower().split() if i not in stop])\n",
    "    punc_free = ''.join(ch for ch in stop_free if ch not in exclude)\n",
    "    normalized = \" \".join(lemma.lemmatize(word) for word in punc_free.split())\n",
    "    return normalized\n",
    "\n",
    "doc_clean = [clean(doc).split() for doc in doc_complete]   "
   ]
  },
  {
   "cell_type": "code",
   "execution_count": null,
   "metadata": {
    "collapsed": true
   },
   "outputs": [],
   "source": [
    "doc_clean"
   ]
  },
  {
   "cell_type": "code",
   "execution_count": null,
   "metadata": {
    "collapsed": true
   },
   "outputs": [],
   "source": [
    "print(\"hello\")"
   ]
  },
  {
   "cell_type": "code",
   "execution_count": null,
   "metadata": {
    "collapsed": true
   },
   "outputs": [],
   "source": []
  }
 ],
 "metadata": {
  "kernelspec": {
   "display_name": "Python 3",
   "language": "python",
   "name": "python3"
  },
  "language_info": {
   "codemirror_mode": {
    "name": "ipython",
    "version": 3
   },
   "file_extension": ".py",
   "mimetype": "text/x-python",
   "name": "python",
   "nbconvert_exporter": "python",
   "pygments_lexer": "ipython3",
   "version": "3.6.4"
  }
 },
 "nbformat": 4,
 "nbformat_minor": 2
}
